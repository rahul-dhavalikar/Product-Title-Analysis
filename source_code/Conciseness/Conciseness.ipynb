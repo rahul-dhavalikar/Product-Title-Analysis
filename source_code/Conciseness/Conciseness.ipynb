{
 "cells": [
  {
   "cell_type": "code",
   "execution_count": 13,
   "metadata": {
    "collapsed": true
   },
   "outputs": [],
   "source": [
    "from __future__ import unicode_literals\n",
    "import spacy\n",
    "import csv\n",
    "import re\n",
    "import numpy as np\n",
    "import utility as ut\n",
    "from sklearn import svm\n",
    "from sklearn.svm import SVC\n",
    "\n",
    "import features_final as f\n",
    "\n",
    "from sklearn.linear_model import LogisticRegression\n",
    "from sklearn.metrics import f1_score\n",
    "from sklearn.metrics import precision_score\n",
    "from sklearn.metrics import accuracy_score\n",
    "from sklearn.metrics import roc_auc_score\n",
    "from sklearn.metrics import recall_score\n",
    "from sklearn.metrics import average_precision_score\n",
    "from xgboost import XGBClassifier\n",
    "\n",
    "import pandas as pd\n",
    "from sklearn.ensemble import RandomForestClassifier\n",
    "from sklearn.datasets import make_classification"
   ]
  },
  {
   "cell_type": "code",
   "execution_count": null,
   "metadata": {
    "collapsed": true
   },
   "outputs": [],
   "source": [
    "def clean(filename,filenameWrite):\n",
    "\n",
    "    cleaned_data = []\n",
    "    with open(filename,'r') as file:\n",
    "        reader = csv.reader(file)\n",
    "        for row in reader:\n",
    "            title = row[2]\n",
    "            description = row[6]\n",
    "            cleanedDescription = ut.cleanDescription(description)\n",
    "            #cleanedDescription = cleanText(cleanedDescription)\n",
    "            cleanedTitle = ut.cleanText(title, False)\n",
    "            \n",
    "            # normalize price\n",
    "            price = float(row[7])\n",
    "            country = row[0]\n",
    "            newPrice = ut.normalizePrice(price, country)\n",
    "            \n",
    "            cleanedRow = [row[0],row[1],cleanedTitle,row[3],row[4],row[5],cleanedDescription, newPrice,row[8]]\n",
    "            cleaned_data.append(cleanedRow)\n",
    "\n",
    "    writer = csv.writer(open(filenameWrite, 'w'))\n",
    "    writer.writerows(cleaned_data)"
   ]
  },
  {
   "cell_type": "code",
   "execution_count": 8,
   "metadata": {},
   "outputs": [
    {
     "name": "stdout",
     "output_type": "stream",
     "text": [
      "Loading Word Vectors............\n",
      "Loaded Word Vectors.............\n"
     ]
    }
   ],
   "source": [
    "w2v_model = f.loadWordVectors('google_news_word_vectors/GoogleNews-vectors-negative300.bin')"
   ]
  },
  {
   "cell_type": "code",
   "execution_count": null,
   "metadata": {
    "collapsed": true
   },
   "outputs": [],
   "source": [
    "#Can be done only once\n",
    "\n",
    "print(\"Cleaning the text in the train data............\")\n",
    "clean('Data/training/data_train.csv','Data/training/data_train_clean.csv')"
   ]
  },
  {
   "cell_type": "code",
   "execution_count": 9,
   "metadata": {},
   "outputs": [
    {
     "name": "stdout",
     "output_type": "stream",
     "text": [
      "Computing Features............\n",
      "Features Computed............\n"
     ]
    }
   ],
   "source": [
    "#Pass the features that you want to test. The order of features are as given below\n",
    "#word2VecFlag \n",
    "#lengthAndBooleanFlag\n",
    "#tfidfLabelIntersectFlag\n",
    "#numericFlag\n",
    "#denseEntropySKUFlag\n",
    "\n",
    "print(\"Computing Features............\")\n",
    "X = f.extract_features(\"Data/training/data_train_clean.csv\",w2v_model,False,True,False,False,False)\n",
    "X_input = X.astype(np.float)\n",
    "\n",
    "print(\"Features Computed............\")\n",
    "\n",
    "y_input = np.loadtxt(\"data/training/conciseness_train.labels\", dtype=float)\n"
   ]
  },
  {
   "cell_type": "code",
   "execution_count": 10,
   "metadata": {
    "collapsed": true
   },
   "outputs": [],
   "source": [
    "#Normalize the Feature Inputs\n",
    "\n",
    "X_std = (X_input - X_input.min(axis=0)) / (X_input.max(axis=0) - X_input.min(axis=0))\n",
    "X_input = X_std\n",
    "X_input = X_input[:,~np.all(np.isnan(X_input), axis=0)]"
   ]
  },
  {
   "cell_type": "code",
   "execution_count": null,
   "metadata": {
    "collapsed": true
   },
   "outputs": [],
   "source": [
    "#Pickle the files, load the pickled files\n",
    "#Use this only if you want to pickle the features and use it later, else don't run this cell\n",
    "\n",
    "import pickle\n",
    "\n",
    "#pickle.dump(X_input, open( \"X_input_numerical.p\", \"wb\" ))\n",
    "#pickle.dump(y_input, open( \"y_input_numerical.p\", \"wb\" ))\n",
    "\n",
    "#Load either the X_input_binary or X_input_numerical depending on the features to be tested\n",
    "#loaded_X_input = pickle.load( open( \"X_input_binary.p\", \"rb\" ) )\n",
    "#loaded_y_input = pickle.load( open( \"y_input_binary.p\", \"rb\" ) )\n",
    "\n",
    "#y_input = np.loadtxt(\"data/training/clarity_train.labels\", dtype=float)\n",
    "\n",
    "X_input = loaded_X_input"
   ]
  },
  {
   "cell_type": "code",
   "execution_count": 11,
   "metadata": {},
   "outputs": [],
   "source": []
  },
  {
   "cell_type": "code",
   "execution_count": null,
   "metadata": {},
   "outputs": [],
   "source": [
    "kFoldResults = ut.splitKFold(X_input,y_input,4)\n",
    "\n",
    "F1 = []\n",
    "Acc = []\n",
    "Precision = []\n",
    "Roc = []\n",
    "Recall = []\n",
    "Avg_Prec = []\n",
    "\n",
    "\n",
    "for resultGenerator in kFoldResults:\n",
    "    trainIndices = resultGenerator[0]\n",
    "    testIndices = resultGenerator[1]\n",
    "    X_train = list()\n",
    "    y_train=list()\n",
    "    X_test=list()\n",
    "    y_test=list()\n",
    "    for trainRow in trainIndices:\n",
    "        X_train.append(X_input[trainRow])\n",
    "        y_train.append(y_input[trainRow])\n",
    "\n",
    "    X_train = np.asarray(X_train)\n",
    "    y_train = np.asarray(y_train)\n",
    "    \n",
    "    # Model training\n",
    "    print(\"Training the Model............\")\n",
    "    \n",
    "    \n",
    "    #Replace with appropriate model, LogisticRegression, RandomForestClassifier etc.. for testing  \n",
    "    model = XGBClassifier()\n",
    "    \n",
    "    model.fit(X_train,y_train)\n",
    "    \n",
    "    print(\"Features Computed for Testing data............\")\n",
    "        \n",
    "    for testRow in testIndices:\n",
    "        X_test.append(X_input[testRow])\n",
    "        y_test.append(y_input[testRow])\n",
    "        \n",
    "    X_test = np.array(X_test)\n",
    "    y_test = np.array(y_test)\n",
    "    \n",
    "    y_pred = model.predict(X_test)\n",
    "    \n",
    "    y_pred_class = [round(value) for value in y_pred]\n",
    "       \n",
    "    # Calculate the performance measures    \n",
    "    acc = accuracy_score(y_test,y_pred)\n",
    "    f1 = f1_score(y_test,y_pred )\n",
    "    roc = roc_auc_score(y_test,y_pred )\n",
    "    precision = precision_score(y_test, y_pred )\n",
    "    avg_prec = average_precision_score(y_test, y_pred)\n",
    "    recall = recall_score(y_test,y_pred)\n",
    "    \n",
    "    Acc.append(acc)\n",
    "    F1.append(f1)\n",
    "    Roc.append(roc)\n",
    "    Precision.append(precision)\n",
    "    Recall.append(recall)\n",
    "    Avg_Prec.append(avg_prec)\n",
    "      \n",
    "    print acc\n",
    "    print f1 \n",
    "    print roc\n",
    "    print precision\n",
    "    print recall\n",
    "    print avg_prec"
   ]
  },
  {
   "cell_type": "code",
   "execution_count": null,
   "metadata": {},
   "outputs": [],
   "source": [
    "# Get the average values\n",
    "print np.mean(Acc)\n",
    "print np.mean(Roc)\n",
    "print np.mean(Precision)\n",
    "print np.mean(F1)\n",
    "print np.mean(Recall)\n",
    "print np.mean(avg_prec)"
   ]
  },
  {
   "cell_type": "code",
   "execution_count": null,
   "metadata": {
    "collapsed": true
   },
   "outputs": [],
   "source": []
  },
  {
   "cell_type": "code",
   "execution_count": null,
   "metadata": {
    "collapsed": true
   },
   "outputs": [],
   "source": []
  }
 ],
 "metadata": {
  "kernelspec": {
   "display_name": "Python 2",
   "language": "python",
   "name": "python2"
  },
  "language_info": {
   "codemirror_mode": {
    "name": "ipython",
    "version": 2
   },
   "file_extension": ".py",
   "mimetype": "text/x-python",
   "name": "python",
   "nbconvert_exporter": "python",
   "pygments_lexer": "ipython2",
   "version": "2.7.13"
  }
 },
 "nbformat": 4,
 "nbformat_minor": 2
}
